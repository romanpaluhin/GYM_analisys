{
 "cells": [
  {
   "cell_type": "code",
   "execution_count": 9,
   "metadata": {},
   "outputs": [],
   "source": [
    "import numpy as np\n",
    "import pandas as pd\n",
    "import yfinance as yf\n",
    "import matplotlib.pyplot as plt\n",
    "from tensorflow.keras.models import Sequential\n",
    "from tensorflow.keras.layers import Conv1D, MaxPooling1D, LSTM, Dense, Dropout\n",
    "from sklearn.preprocessing import MinMaxScaler\n",
    "from sklearn.model_selection import train_test_split"
   ]
  },
  {
   "cell_type": "code",
   "execution_count": 6,
   "metadata": {},
   "outputs": [],
   "source": [
    "# https://drive.google.com/file/d/1aqAvaSSc3ShXbhPmLyfVWwOsTbalKR3O/view?usp=sharing\n",
    "# https://drive.google.com/file/d/1lOyENvLKFWirgQt5lSsqzUSSix5kX7Hp/view?usp=sharing\n",
    "# https://drive.google.com/file/d/1qc8y8ClGksYOHcyr_QOCSeoG4LBD_Jwp/view?usp=sharing\n",
    "\n",
    "file_id = '1aqAvaSSc3ShXbhPmLyfVWwOsTbalKR3O'\n",
    "years = f\"https://drive.google.com/uc?id={file_id}\"\n",
    "\n",
    "file_id = '1lOyENvLKFWirgQt5lSsqzUSSix5kX7Hp'\n",
    "daily = f\"https://drive.google.com/uc?id={file_id}\"\n",
    "\n",
    "file_id = '1qc8y8ClGksYOHcyr_QOCSeoG4LBD_Jwp'\n",
    "mounthly = f\"https://drive.google.com/uc?id={file_id}\"\n",
    "\n",
    "years = pd.read_csv(years)\n",
    "daily = pd.read_csv(daily)\n",
    "mounthly = pd.read_csv(mounthly)"
   ]
  },
  {
   "cell_type": "code",
   "execution_count": 7,
   "metadata": {},
   "outputs": [
    {
     "name": "stderr",
     "output_type": "stream",
     "text": [
      "C:\\Users\\palux\\AppData\\Local\\Temp\\ipykernel_22212\\2974021741.py:5: SettingWithCopyWarning: \n",
      "A value is trying to be set on a copy of a slice from a DataFrame.\n",
      "Try using .loc[row_indexer,col_indexer] = value instead\n",
      "\n",
      "See the caveats in the documentation: https://pandas.pydata.org/pandas-docs/stable/user_guide/indexing.html#returning-a-view-versus-a-copy\n",
      "  df_clean['Date'] = pd.to_datetime(df['Date'])\n"
     ]
    }
   ],
   "source": [
    "df = daily[daily['Country'].isin(['Japan'])] # выбрал только Japan\n",
    "\n",
    "df_clean = df.dropna()\n",
    "\n",
    "df_clean['Date'] = pd.to_datetime(df['Date'])\n",
    "df2 = df_clean.select_dtypes(include=['float64', 'int64'])\n",
    "\n",
    "scaler = MinMaxScaler(feature_range=(0, 1))\n",
    "data_scaled = scaler.fit_transform(df2)"
   ]
  },
  {
   "cell_type": "code",
   "execution_count": 8,
   "metadata": {},
   "outputs": [
    {
     "ename": "NameError",
     "evalue": "name 'create_dataset' is not defined",
     "output_type": "error",
     "traceback": [
      "\u001b[1;31m---------------------------------------------------------------------------\u001b[0m",
      "\u001b[1;31mNameError\u001b[0m                                 Traceback (most recent call last)",
      "Cell \u001b[1;32mIn[8], line 8\u001b[0m\n\u001b[0;32m      6\u001b[0m \u001b[38;5;66;03m# Преобразуем данные в формат, пригодный для LSTM\u001b[39;00m\n\u001b[0;32m      7\u001b[0m time_step \u001b[38;5;241m=\u001b[39m \u001b[38;5;241m60\u001b[39m  \u001b[38;5;66;03m# 60 дней для предсказания\u001b[39;00m\n\u001b[1;32m----> 8\u001b[0m X_train, y_train \u001b[38;5;241m=\u001b[39m \u001b[43mcreate_dataset\u001b[49m(train_data, time_step)\n\u001b[0;32m      9\u001b[0m X_test, y_test \u001b[38;5;241m=\u001b[39m create_dataset(test_data, time_step)\n\u001b[0;32m     11\u001b[0m \u001b[38;5;66;03m# Изменим форму данных для подачи в модель (samples, time_steps, features)\u001b[39;00m\n",
      "\u001b[1;31mNameError\u001b[0m: name 'create_dataset' is not defined"
     ]
    }
   ],
   "source": [
    "# Разделим данные на обучающие и тестовые (80% на обучение, 20% на тест)\n",
    "train_size = int(len(df) * 0.8)\n",
    "train_data = data_scaled[:train_size]\n",
    "test_data = data_scaled[train_size:]\n",
    "\n",
    "# Преобразуем данные в формат, пригодный для LSTM\n",
    "time_step = 60  # 60 дней для предсказания\n",
    "X_train, y_train = create_dataset(train_data, time_step)\n",
    "X_test, y_test = create_dataset(test_data, time_step)\n",
    "\n",
    "# Изменим форму данных для подачи в модель (samples, time_steps, features)\n",
    "X_train = X_train.reshape(X_train.shape[0], X_train.shape[1], 1)\n",
    "X_test = X_test.reshape(X_test.shape[0], X_test.shape[1], 1)\n",
    "\n",
    "print(X_train.shape, y_train.shape, X_test.shape, y_test.shape)"
   ]
  },
  {
   "cell_type": "code",
   "execution_count": null,
   "metadata": {},
   "outputs": [],
   "source": [
    "model = Sequential()\n",
    "\n",
    "# Добавляем свёрточный слой\n",
    "model.add(Conv1D(filters=64, kernel_size=3, activation='relu', input_shape=(X_train.shape[1], 1)))\n",
    "model.add(MaxPooling1D(pool_size=2))\n",
    "\n",
    "# Добавляем слой LSTM\n",
    "model.add(LSTM(units=50, return_sequences=False))\n",
    "\n",
    "# Добавляем выходной слой\n",
    "model.add(Dense(units=1))\n",
    "\n",
    "# Компиляция модели\n",
    "model.compile(optimizer='adam', loss='mean_squared_error')\n",
    "\n",
    "# Сводка модели\n",
    "model.summary()\n",
    "\n",
    "history = model.fit(X_train, y_train, epochs=4, batch_size=32, validation_data=(X_test, y_test))\n",
    "\n",
    "# Прогнозирование на тестовых данных\n",
    "predictions = model.predict(X_test)\n",
    "\n",
    "# Преобразуем предсказания обратно в исходный масштаб\n",
    "predictions = scaler.inverse_transform(predictions)\n",
    "y_test_actual = scaler.inverse_transform(y_test.reshape(-1, 1))"
   ]
  },
  {
   "cell_type": "code",
   "execution_count": null,
   "metadata": {},
   "outputs": [],
   "source": [
    "# Визуализируем результаты\n",
    "plt.figure(figsize=(10,6))\n",
    "plt.plot(y_test_actual, label='Actual Price')\n",
    "plt.plot(predictions, label='Predicted Price')\n",
    "plt.title('Currency Exchange Rate Prediction')\n",
    "plt.xlabel('Time')\n",
    "plt.ylabel('Exchange Rate (USD/INR)')\n",
    "plt.legend()\n",
    "plt.show()\n"
   ]
  },
  {
   "cell_type": "code",
   "execution_count": null,
   "metadata": {},
   "outputs": [],
   "source": []
  }
 ],
 "metadata": {
  "kernelspec": {
   "display_name": "Python 3",
   "language": "python",
   "name": "python3"
  },
  "language_info": {
   "codemirror_mode": {
    "name": "ipython",
    "version": 3
   },
   "file_extension": ".py",
   "mimetype": "text/x-python",
   "name": "python",
   "nbconvert_exporter": "python",
   "pygments_lexer": "ipython3",
   "version": "3.12.6"
  }
 },
 "nbformat": 4,
 "nbformat_minor": 2
}
